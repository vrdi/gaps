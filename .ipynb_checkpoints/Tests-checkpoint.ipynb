{
 "cells": [
  {
   "cell_type": "code",
   "execution_count": 1,
   "metadata": {},
   "outputs": [],
   "source": [
    "import os\n",
    "from gerrychain import Graph, GeographicPartition, Partition, Election, accept\n",
    "from gerrychain.updaters import Tally, cut_edges\n",
    "import geopandas as gpd\n",
    "import numpy as np\n",
    "from gerrychain.random import random\n",
    "import copy\n",
    "from gerrychain import MarkovChain\n",
    "from gerrychain.constraints import single_flip_contiguous\n",
    "from gerrychain.proposals import propose_random_flip, recom\n",
    "from gerrychain.accept import always_accept\n",
    "from gerrychain.metrics import polsby_popper\n",
    "from gerrychain import constraints\n",
    "from gerrychain.constraints import no_vanishing_districts\n",
    "from collections import defaultdict, Counter\n",
    "from itertools import combinations_with_replacement\n",
    "import matplotlib.pyplot as plt\n",
    "import networkx as nx\n",
    "import pandas\n",
    "import math\n",
    "from functools import partial\n"
   ]
  },
  {
   "cell_type": "code",
   "execution_count": 3,
   "metadata": {},
   "outputs": [
    {
     "name": "stdout",
     "output_type": "stream",
     "text": [
      "made graph\n",
      "{'boundary_node': False, 'area': 1.1987234224660887e-06, 'OBJECTID': 253799, 'COUNTYFP10': '710', 'TRACTCE10': '004900', 'BLOCKCE10': '1095', 'GEOID10': '517100049001095', 'TAPERSONS': 0, 'TAHISPANIC': 0, 'VAPERSONS': 0, 'VAHISPANIC': 0, 'WHITE': 0, 'BLACK': 0, 'AIAN': 0, 'ASIAN': 0, 'HAWPI': 0, 'OTHER': 0, 'MULTI': 0, 'VAPWHITE': 0, 'VAPBLACK': 0, 'VAPAIAN': 0, 'VAPASIAN': 0, 'VAPHAWPI': 0, 'VAPOTHER': 0, 'VAPMULTI': 0, 'HSPWHITE': 0, 'HSPBLACK': 0, 'HSPOTHER': 0, 'VAPHISPWH': 0, 'VAPHISPBL': 0, 'VAPHISPOT': 0, 'REGVOTERS': 26, 'D_LTGOV': 0.0, 'R_LTGOV': 0.0, 'D_GOV': 0.0, 'R_GOV': 0.0, 'D_ATTGEN': 0.0, 'R_ATTGEN': 0.0, 'VTD_ID_1': '710211', 'LOCALITY': 'Norfolk', 'Name10': '710211 - Chrysler Museum', 'Shape_Leng': 0.00452928765, 'Shape_Area': 1.19872e-06, 'ABName': '710211 - Chrysler Museum', 'HB5005': '80', 'REMEDIAL': '89', 'Pfield_2': '77'}\n"
     ]
    },
    {
     "ename": "KeyError",
     "evalue": "'BVAP'",
     "output_type": "error",
     "traceback": [
      "\u001b[0;31m---------------------------------------------------------------------------\u001b[0m",
      "\u001b[0;31mKeyError\u001b[0m                                  Traceback (most recent call last)",
      "\u001b[0;32m<ipython-input-3-f224349f1fd2>\u001b[0m in \u001b[0;36m<module>\u001b[0;34m\u001b[0m\n\u001b[1;32m      6\u001b[0m \u001b[0mBVAP\u001b[0m \u001b[0;34m=\u001b[0m \u001b[0;36m0\u001b[0m\u001b[0;34m\u001b[0m\u001b[0;34m\u001b[0m\u001b[0m\n\u001b[1;32m      7\u001b[0m \u001b[0;32mfor\u001b[0m \u001b[0mnode\u001b[0m \u001b[0;32min\u001b[0m \u001b[0mgraph\u001b[0m\u001b[0;34m:\u001b[0m\u001b[0;34m\u001b[0m\u001b[0;34m\u001b[0m\u001b[0m\n\u001b[0;32m----> 8\u001b[0;31m     \u001b[0mBVAP\u001b[0m \u001b[0;34m+=\u001b[0m \u001b[0mgraph\u001b[0m\u001b[0;34m.\u001b[0m\u001b[0mnodes\u001b[0m\u001b[0;34m[\u001b[0m\u001b[0mnode\u001b[0m\u001b[0;34m]\u001b[0m\u001b[0;34m[\u001b[0m\u001b[0;34m\"BVAP\"\u001b[0m\u001b[0;34m]\u001b[0m\u001b[0;34m\u001b[0m\u001b[0;34m\u001b[0m\u001b[0m\n\u001b[0m\u001b[1;32m      9\u001b[0m \u001b[0mprint\u001b[0m\u001b[0;34m(\u001b[0m\u001b[0mBVAP\u001b[0m\u001b[0;34m)\u001b[0m\u001b[0;34m\u001b[0m\u001b[0;34m\u001b[0m\u001b[0m\n",
      "\u001b[0;31mKeyError\u001b[0m: 'BVAP'"
     ]
    }
   ],
   "source": [
    "\n",
    "\n",
    "graph = Graph.from_json(\"./VA_Block_Groups_33.json\")\n",
    "print(\"made graph\")\n",
    "BVAP = 0\n",
    "for node in graph:\n",
    "    BVAP += graph.nodes[node][\"VAPBLACK\"]\n",
    "print(BVAP)\n"
   ]
  },
  {
   "cell_type": "code",
   "execution_count": null,
   "metadata": {},
   "outputs": [],
   "source": []
  }
 ],
 "metadata": {
  "kernelspec": {
   "display_name": "Python 3",
   "language": "python",
   "name": "python3"
  },
  "language_info": {
   "codemirror_mode": {
    "name": "ipython",
    "version": 3
   },
   "file_extension": ".py",
   "mimetype": "text/x-python",
   "name": "python",
   "nbconvert_exporter": "python",
   "pygments_lexer": "ipython3",
   "version": "3.7.3"
  }
 },
 "nbformat": 4,
 "nbformat_minor": 2
}
