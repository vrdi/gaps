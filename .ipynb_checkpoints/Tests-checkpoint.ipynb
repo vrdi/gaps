{
 "cells": [
  {
   "cell_type": "code",
   "execution_count": 2,
   "metadata": {},
   "outputs": [],
   "source": [
    "import os\n",
    "from gerrychain import Graph, GeographicPartition, Partition, Election, accept, updaters\n",
    "from gerrychain.updaters import Tally, cut_edges\n",
    "import geopandas as gpd\n",
    "import numpy as np\n",
    "from gerrychain.random import random\n",
    "import copy\n",
    "from gerrychain import MarkovChain\n",
    "from gerrychain.constraints import single_flip_contiguous\n",
    "from gerrychain.proposals import propose_random_flip, recom\n",
    "from gerrychain.accept import always_accept\n",
    "from gerrychain.metrics import polsby_popper\n",
    "from gerrychain import constraints\n",
    "from gerrychain.constraints import no_vanishing_districts\n",
    "from collections import defaultdict, Counter\n",
    "from itertools import combinations_with_replacement\n",
    "import matplotlib.pyplot as plt\n",
    "import networkx as nx\n",
    "import pandas\n",
    "import math\n",
    "from functools import partial\n"
   ]
  },
  {
   "cell_type": "code",
   "execution_count": 8,
   "metadata": {},
   "outputs": [
    {
     "name": "stdout",
     "output_type": "stream",
     "text": [
      "made graph\n",
      "{'boundary_node': False, 'area': 1.130699073262681e-07, 'OBJECTID': 253871, 'COUNTYFP10': '710', 'TRACTCE10': '003501', 'BLOCKCE10': '3043', 'GEOID10': '517100035013043', 'TAPERSONS': 0, 'TAHISPANIC': 0, 'VAPERSONS': 0, 'VAHISPANIC': 0, 'WHITE': 0, 'BLACK': 0, 'AIAN': 0, 'ASIAN': 0, 'HAWPI': 0, 'OTHER': 0, 'MULTI': 0, 'VAPWHITE': 0, 'VAPBLACK': 0, 'VAPAIAN': 0, 'VAPASIAN': 0, 'VAPHAWPI': 0, 'VAPOTHER': 0, 'VAPMULTI': 0, 'HSPWHITE': 0, 'HSPBLACK': 0, 'HSPOTHER': 0, 'VAPHISPWH': 0, 'VAPHISPBL': 0, 'VAPHISPOT': 0, 'REGVOTERS': 0, 'D_LTGOV': 0.0, 'R_LTGOV': 0.0, 'D_GOV': 0.0, 'R_GOV': 0.0, 'D_ATTGEN': 0.0, 'R_ATTGEN': 0.0, 'VTD_ID_1': '710414', 'LOCALITY': 'Norfolk', 'Name10': '710414 - Young Park', 'Shape_Leng': 0.00136064784, 'Shape_Area': 1.1307e-07, 'ABName': '710414 - Young Park', 'HB5005': '89', 'REMEDIAL': '89', 'Pfield_2': '77'}\n"
     ]
    }
   ],
   "source": [
    "graph = Graph.from_json(\"./VA_Block_Groups_33.json\")\n",
    "print(\"made graph\")"
   ]
  },
  {
   "cell_type": "code",
   "execution_count": 17,
   "metadata": {},
   "outputs": [],
   "source": [
    "my_updaters = {\n",
    "    \"population\": updaters.Tally(\"TAPERSONS\", alias=\"population\"),\n",
    "    \"BVAP\": updaters.Tally(\"VAPBLACK\", alias=\"BVAP\"),\n",
    "    \"VAP\": updaters.Tally(\"VAPERSONS\", alias=\"VAP\")\n",
    "}\n",
    "initial_partition = GeographicPartition(graph, assignment=\"REMEDIAL\", updaters=my_updaters)\n",
    "ideal_population = sum(initial_partition[\"population\"].values()) / len(initial_partition)\n",
    "proposal = partial(recom,\n",
    "                   pop_col=\"TAPERSONS\",\n",
    "                   pop_target=ideal_population,\n",
    "                   epsilon=0.02,\n",
    "                   node_repeats=2\n",
    "                  )\n",
    "compactness_bound = constraints.UpperBound(\n",
    "    lambda p: len(p[\"cut_edges\"]),\n",
    "    2*len(initial_partition[\"cut_edges\"])\n",
    ")\n",
    "\n",
    "pop_constraint = constraints.within_percent_of_ideal_population(initial_partition, 0.02)"
   ]
  },
  {
   "cell_type": "code",
   "execution_count": 27,
   "metadata": {},
   "outputs": [],
   "source": [
    "chain = MarkovChain(\n",
    "    proposal=proposal,\n",
    "    constraints=[\n",
    "        pop_constraint,\n",
    "        compactness_bound\n",
    "    ],\n",
    "    accept=accept.always_accept,\n",
    "    initial_state=initial_partition,\n",
    "    total_steps=20\n",
    ")"
   ]
  },
  {
   "cell_type": "code",
   "execution_count": null,
   "metadata": {},
   "outputs": [
    {
     "name": "stdout",
     "output_type": "stream",
     "text": [
      ".\n",
      ".\n",
      ".\n",
      ".\n",
      ".\n",
      ".\n",
      ".\n",
      ".\n",
      ".\n",
      ".\n",
      ".\n",
      ".\n",
      ".\n",
      ".\n",
      ".\n",
      ".\n",
      ".\n",
      ".\n",
      ".\n",
      ".\n",
      ".\n",
      ".\n",
      ".\n",
      ".\n",
      ".\n",
      ".\n",
      ".\n"
     ]
    }
   ],
   "source": [
    "data = pandas.DataFrame()\n",
    "for partition in chain:\n",
    "    print(\".\", end=\"\")\n",
    "    data.append([x/y for x, y in zip(list(partition[\"BVAP\"].values()), list(partition[\"VAP\"].values()))])\n",
    "#data = pandas.DataFrame(\n",
    "#    sorted([x/y for x, y in zip(list(partition[\"BVAP\"].values()), list(partition[\"VAP\"].values()))])\n",
    "#    for partition in chain\n",
    "#)"
   ]
  },
  {
   "cell_type": "code",
   "execution_count": null,
   "metadata": {},
   "outputs": [],
   "source": [
    "fig, ax = plt.subplots(figsize=(8, 6))\n",
    "\n",
    "# Draw lines\n",
    "ax.axhline(0.55, color=\"#cccccc\")\n",
    "ax.axhline(0.37, color=\"#cccccc\")\n",
    "\n",
    "\n",
    "# Draw boxplot\n",
    "data.boxplot(ax=ax, positions=range(len(data.columns)))\n",
    "\n",
    "# Draw initial plan's BVAP %\n",
    "plt.plot(data.iloc[0], \"ro\")\n",
    "\n",
    "# Annotate\n",
    "ax.set_title(\"Ensemble BVAP for VA\")\n",
    "ax.set_ylabel(\"BVAP %\")\n",
    "ax.set_xlabel(\"Sorted districts\")\n",
    "ax.set_ylim(0, 1)\n",
    "ax.set_yticks([0, 0.25, 0.5, 0.75, 1])\n",
    "\n",
    "plt.show()"
   ]
  }
 ],
 "metadata": {
  "kernelspec": {
   "display_name": "Python 3",
   "language": "python",
   "name": "python3"
  },
  "language_info": {
   "codemirror_mode": {
    "name": "ipython",
    "version": 3
   },
   "file_extension": ".py",
   "mimetype": "text/x-python",
   "name": "python",
   "nbconvert_exporter": "python",
   "pygments_lexer": "ipython3",
   "version": "3.7.3"
  }
 },
 "nbformat": 4,
 "nbformat_minor": 2
}
